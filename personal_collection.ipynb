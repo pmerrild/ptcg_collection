{
 "cells": [
  {
   "cell_type": "code",
   "execution_count": 0,
   "metadata": {
    "application/vnd.databricks.v1+cell": {
     "cellMetadata": {
      "byteLimit": 2048000,
      "rowLimit": 10000
     },
     "inputWidgets": {},
     "nuid": "e4dcaf4b-0648-459e-b330-0f241ce49aad",
     "showTitle": false,
     "tableResultSettingsMap": {},
     "title": ""
    }
   },
   "outputs": [],
   "source": [
    "import os\n",
    "foo = dbutils.secrets.get(scope = \"my_scope\", key = \"POKEMON_API_KEY\")\n",
    "print(foo)"
   ]
  },
  {
   "cell_type": "code",
   "execution_count": 0,
   "metadata": {
    "application/vnd.databricks.v1+cell": {
     "cellMetadata": {
      "byteLimit": 2048000,
      "rowLimit": 10000
     },
     "inputWidgets": {},
     "nuid": "18bae771-5da6-4a3a-9cdf-f8b519c0b98e",
     "showTitle": false,
     "tableResultSettingsMap": {},
     "title": ""
    }
   },
   "outputs": [],
   "source": [
    "# %pip install pokemontcgsdk\n",
    "import os\n",
    "from pokemontcgsdk import Card, RestClient\n",
    "from pyspark.sql import SparkSession\n",
    "import pandas as pd\n",
    "\n",
    "# Configure your API key from environment variable\n",
    "api_key = dbutils.secrets.get(scope = \"my_scope\", key = \"POKEMON_API_KEY\")\n",
    "if not api_key:\n",
    "    raise ValueError(\"API key not found. Set the POKEMON_API_KEY environment variable.\")\n",
    "RestClient.configure(api_key)\n",
    "\n",
    "# Fetch all cards using the SDK\n",
    "cards = list(Card.all())\n",
    "\n",
    "# Convert cards to a list of dicts\n",
    "cards_list = [c.__dict__ for c in cards]\n",
    "\n",
    "# Normalize complex fields\n",
    "for card in cards_list:\n",
    "    if 'abilities' in card:\n",
    "        card['abilities'] = [ability.__dict__ for ability in card['abilities']]\n",
    "\n",
    "# Create a pandas DataFrame\n",
    "pdf = pd.json_normalize(cards_list)\n",
    "\n",
    "# Convert to Spark DataFrame\n",
    "spark = SparkSession.builder.getOrCreate()\n",
    "df = spark.createDataFrame(pdf)\n",
    "\n",
    "# Examine schema and show data\n",
    "df.printSchema()\n",
    "display(df.limit(5))\n",
    "\n",
    "# Write to Delta table\n",
    "#df.write.format(\"delta\") \\\n",
    "#    .mode(\"overwrite\") \\\n",
    "#    .saveAsTable(\"pokemon_tcg_collection.bronze.tcg_all_cards\")"
   ]
  }
 ],
 "metadata": {
  "application/vnd.databricks.v1+notebook": {
   "computePreferences": null,
   "dashboards": [],
   "environmentMetadata": {
    "base_environment": "",
    "environment_version": "2"
   },
   "inputWidgetPreferences": null,
   "language": "python",
   "notebookMetadata": {
    "pythonIndentUnit": 4
   },
   "notebookName": "personal_collection",
   "widgets": {}
  },
  "language_info": {
   "name": "python"
  }
 },
 "nbformat": 4,
 "nbformat_minor": 0
}
