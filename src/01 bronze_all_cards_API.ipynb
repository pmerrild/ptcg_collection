{
 "cells": [
  {
   "cell_type": "code",
   "execution_count": 0,
   "metadata": {
    "application/vnd.databricks.v1+cell": {
     "cellMetadata": {
      "byteLimit": 2048000,
      "rowLimit": 10000
     },
     "inputWidgets": {},
     "nuid": "a651bdf0-fc16-41d6-aec1-6b52c849338d",
     "showTitle": false,
     "tableResultSettingsMap": {},
     "title": ""
    }
   },
   "outputs": [],
   "source": [
    "%python\n",
    "#pip install pokemontcgsdk\n",
    "#dbutils.library.restartPython()"
   ]
  },
  {
   "cell_type": "code",
   "execution_count": 0,
   "metadata": {
    "application/vnd.databricks.v1+cell": {
     "cellMetadata": {
      "byteLimit": 2048000,
      "rowLimit": 10000
     },
     "inputWidgets": {},
     "nuid": "02d670b7-554f-467b-b81d-f3a6c3753a67",
     "showTitle": true,
     "tableResultSettingsMap": {},
     "title": "Get All Cards: Full Strict Object Working Code"
    }
   },
   "outputs": [],
   "source": [
    "%python\n",
    "# %pip install pokemontcgsdk\n",
    "import os\n",
    "import json\n",
    "from pokemontcgsdk import Card, RestClient\n",
    "from pyspark.sql import SparkSession\n",
    "from pyspark.sql.types import (\n",
    "    StructType,\n",
    "    StructField,\n",
    "    StringType,\n",
    "    ArrayType,\n",
    "    IntegerType,\n",
    ")\n",
    "\n",
    "# Configure your API key from environment variable\n",
    "api_key = dbutils.secrets.get(scope=\"my_scope\", key=\"POKEMON_API_KEY\")\n",
    "if not api_key:\n",
    "    raise ValueError(\"API key not found. Set the POKEMON_API_KEY environment variable.\")\n",
    "RestClient.configure(api_key)\n",
    "\n",
    "# Fetch all cards using the SDK\n",
    "#cards = list(Card.where(page=1, pageSize=1))\n",
    "cards = list(Card.all())\n",
    "\n",
    "\n",
    "# Helper function to recursively convert object attributes to dicts\n",
    "def obj_to_dict(obj):\n",
    "    if isinstance(obj, list):\n",
    "        return [obj_to_dict(item) for item in obj]\n",
    "    elif hasattr(obj, \"__dict__\"):\n",
    "        return {key: obj_to_dict(value) for key, value in obj.__dict__.items()}\n",
    "    else:\n",
    "        return obj\n",
    "\n",
    "\n",
    "# Convert cards to a list of fully serializable dicts\n",
    "cards_list = [obj_to_dict(c) for c in cards]\n",
    "\n",
    "# Define the schema explicitly\n",
    "schema = StructType(\n",
    "    [\n",
    "        StructField(\"id\", StringType(), True),\n",
    "        StructField(\"name\", StringType(), True),\n",
    "        StructField(\"supertype\", StringType(), True),\n",
    "        StructField(\"subtypes\", ArrayType(StringType()), True),\n",
    "        StructField(\"level\", StringType(), True),\n",
    "        StructField(\"hp\", StringType(), True),\n",
    "        StructField(\"types\", ArrayType(StringType()), True),\n",
    "        StructField(\"rules\", ArrayType(StringType()), True),\n",
    "        StructField(\n",
    "            \"ancientTrait\",\n",
    "            StructType(\n",
    "                [\n",
    "                    StructField(\"name\", StringType(), True),\n",
    "                    StructField(\"text\", StringType(), True),\n",
    "                ]\n",
    "            ),\n",
    "            True,\n",
    "        ),\n",
    "        StructField(\n",
    "            \"set\",\n",
    "            StructType(\n",
    "                [\n",
    "                    StructField(\"id\", StringType(), True),\n",
    "                    StructField(\"ptcgoCode\", StringType(), True),\n",
    "                ]\n",
    "            ),\n",
    "            True,\n",
    "        ),\n",
    "        StructField(\"number\", StringType(), True),\n",
    "        StructField(\"artist\", StringType(), True),\n",
    "        StructField(\"rarity\", StringType(), True),\n",
    "        StructField(\"flavorText\", StringType(), True),\n",
    "        StructField(\"nationalPokedexNumbers\", ArrayType(IntegerType()), True),\n",
    "        StructField(\n",
    "            \"images\",\n",
    "            StructType(\n",
    "                [\n",
    "                    StructField(\"small\", StringType(), True),\n",
    "                    StructField(\"large\", StringType(), True),\n",
    "                ]\n",
    "            ),\n",
    "            True,\n",
    "        ),\n",
    "    ]\n",
    ")\n",
    "\n",
    "# Save the JSON to DBFS using Spark\n",
    "# spark = SparkSession.builder.getOrCreate()\n",
    "df = spark.createDataFrame(cards_list, schema=schema)\n",
    "\n",
    "# Optional: write to Delta\n",
    "df.write.format(\"delta\").mode(\"overwrite\").saveAsTable(\"workspace.pokemon_tcg_collection.tcg_all_cards\")\n",
    "#df.display()"
   ]
  },
  {
   "cell_type": "code",
   "execution_count": 0,
   "metadata": {
    "application/vnd.databricks.v1+cell": {
     "cellMetadata": {
      "byteLimit": 2048000,
      "rowLimit": 10000
     },
     "inputWidgets": {},
     "nuid": "e1f75385-87ad-4a9c-9038-b0d7e6178174",
     "showTitle": true,
     "tableResultSettingsMap": {},
     "title": "Get All Sets: Full Strict Object"
    }
   },
   "outputs": [],
   "source": [
    "%python\n",
    "# %pip install pokemontcgsdk\n",
    "import os\n",
    "import json\n",
    "from pokemontcgsdk import Set, RestClient\n",
    "from pyspark.sql import SparkSession\n",
    "from pyspark.sql.types import (\n",
    "    StructType,\n",
    "    StructField,\n",
    "    StringType,\n",
    "    ArrayType,\n",
    "    IntegerType,\n",
    ")\n",
    "\n",
    "# Configure your API key from environment variable\n",
    "api_key = dbutils.secrets.get(scope=\"my_scope\", key=\"POKEMON_API_KEY\")\n",
    "if not api_key:\n",
    "    raise ValueError(\"API key not found. Set the POKEMON_API_KEY environment variable.\")\n",
    "RestClient.configure(api_key)\n",
    "\n",
    "# Fetch all cards using the SDK\n",
    "# cards = list(Card.where(page=1, pageSize=1))\n",
    "# sets = list(sets = Set.where(page=2, pageSize=10))\n",
    "#sets = Set.where(page=2, pageSize=10)\n",
    "sets = Set.all()\n",
    "\n",
    "\n",
    "# Helper function to recursively convert object attributes to dicts\n",
    "def obj_to_dict(obj):\n",
    "    if isinstance(obj, list):\n",
    "        return [obj_to_dict(item) for item in obj]\n",
    "    elif hasattr(obj, \"__dict__\"):\n",
    "        return {key: obj_to_dict(value) for key, value in obj.__dict__.items()}\n",
    "    else:\n",
    "        return obj\n",
    "\n",
    "\n",
    "# Convert cards to a list of fully serializable dicts\n",
    "sets_list = [obj_to_dict(s) for s in sets]\n",
    "\n",
    "# Define the schema explicitly\n",
    "schema = StructType(\n",
    "    [\n",
    "        StructField(\"id\", StringType(), True),\n",
    "        StructField(\"name\", StringType(), True),\n",
    "        StructField(\"series\", StringType(), True),\n",
    "        StructField(\"printedTotal\", IntegerType(), True),\n",
    "        StructField(\"total\", IntegerType(), True),\n",
    "        StructField(\"ptcgoCode\", StringType(), True),\n",
    "        StructField(\"releaseDate\", StringType(), True),\n",
    "        StructField(\"updatedAt\", StringType(), True),\n",
    "        StructField(\n",
    "            \"images\",\n",
    "            StructType(\n",
    "                [\n",
    "                    StructField(\"symbol\", StringType(), True),\n",
    "                    StructField(\"logo\", StringType(), True),\n",
    "                ]\n",
    "            ),\n",
    "            True,\n",
    "        ),\n",
    "    ]\n",
    ")\n",
    "\n",
    "# Save the JSON to DBFS using Spark\n",
    "# spark = SparkSession.builder.getOrCreate()\n",
    "df = spark.createDataFrame(sets_list, schema=schema)\n",
    "\n",
    "# Optional: write to Delta\n",
    "df.write.format(\"delta\").mode(\"overwrite\").saveAsTable(\"workspace.pokemon_tcg_collection.tcg_all_sets\")\n",
    "#df.display()"
   ]
  },
  {
   "cell_type": "code",
   "execution_count": 0,
   "metadata": {
    "application/vnd.databricks.v1+cell": {
     "cellMetadata": {
      "byteLimit": 2048000,
      "implicitDf": true,
      "rowLimit": 10000
     },
     "inputWidgets": {},
     "nuid": "cd0817a9-18b0-45da-bb13-f51098605103",
     "showTitle": false,
     "tableResultSettingsMap": {},
     "title": ""
    }
   },
   "outputs": [],
   "source": [
    "\tWITH source AS (\n",
    "  SELECT\n",
    "\t\tt1.Quantity\n",
    "\t\t,t1.Name\n",
    "\t\t,t1.Simple_Name\n",
    "\t\t,t1.Set\n",
    "\t\t,t1.Card_Number\n",
    "\t\t,CASE\n",
    "\t\t\tWHEN\n",
    "\t\t\t\tTRY_CAST(ELEMENT_AT(SPLIT(t1.Card_Number, '/'), 1) AS INT) IS NOT NULL\n",
    "\t\t\tTHEN\n",
    "\t\t\t\tCAST(TRY_CAST(ELEMENT_AT(SPLIT(t1.Card_Number, '/'), 1) AS INT) AS STRING)\n",
    "\t\t\tELSE ELEMENT_AT(SPLIT(t1.Card_Number, '/'), 1)\n",
    "\t\tEND AS Print_Number\n",
    "\t\t,TRY_ELEMENT_AT(SPLIT(t1.Card_Number, '/'), 2) AS Set_Total\n",
    "\t\t,(\n",
    "\t\t\tCASE\n",
    "\t\t\t\tWHEN t1.Set_Code LIKE \"BS2\" THEN \"B2\"\n",
    "\t\t\t\tELSE t1.Set_Code\n",
    "\t\t\tEND\n",
    "\t\t) AS Set_Code\n",
    "\t\t,t1.Printing\n",
    "\t\t,t1.Condition\n",
    "\t\t,t1.Language\n",
    "\t\t,t1.Rarity\n",
    "\t\t,t1.Product_ID\n",
    "\t\t,t1.SKU\n",
    "\t\t,t1.Price\n",
    "\t\t,t1.Price_Each\n",
    "\n",
    "\n",
    "\tFROM\n",
    "\t\tworkspace.pokemon_tcg_collection.tcg_collection AS t1\n",
    "  )\n",
    "--SELECT * FROM source;\n",
    "\n",
    "SELECT \n",
    "    t1.*\n",
    "    ,t2.id\n",
    "\t\t,t2.ptcgoCode\n",
    "    FROM source AS t1\n",
    "\t\t\tLEFT JOIN workspace.pokemon_tcg_collection.tcg_all_sets AS t2\n",
    "\t\t\t\tON t1.Set_Code = t2.ptcgoCode\n",
    "-- SELECT * FROM workspace.pokemon_tcg_collection.tcg_all_sets;\n",
    "--SELECT * FROM workspace.pokemon_tcg_collection.tcg_all_cards WHERE name LIKE \"Braixen\""
   ]
  },
  {
   "cell_type": "code",
   "execution_count": 0,
   "metadata": {
    "application/vnd.databricks.v1+cell": {
     "cellMetadata": {
      "byteLimit": 2048000,
      "implicitDf": true,
      "rowLimit": 10000
     },
     "collapsed": true,
     "inputWidgets": {},
     "nuid": "6715b255-d76f-4097-9643-04f38a52110f",
     "showTitle": false,
     "tableResultSettingsMap": {},
     "title": ""
    }
   },
   "outputs": [],
   "source": [
    "%sql\n",
    "CREATE OR REPLACE TABLE pokemon_tcg_collection.bronze.tcg_collection\n",
    "SELECT\n",
    "\tQuantity\n",
    "\t,Name\n",
    "\t,Simple_Name\n",
    "\t,Set\n",
    "\t,Card_Number\n",
    "\t,Set_Code\n",
    "\t,CASE WHEN Printing LIKE \"1st%\" THEN \"Unlimited\" ELSE Printing END AS Printing\n",
    "\t,Condition\n",
    "\t,Language\n",
    "\t,Rarity\n",
    "\t,Product_ID\n",
    "\t,SKU\n",
    "\t,Price\n",
    "\t,Price_Each\n",
    "\n",
    "FROM\n",
    "\tpokemon_tcg_collection.bronze.tcg_collection"
   ]
  },
  {
   "cell_type": "code",
   "execution_count": 0,
   "metadata": {
    "application/vnd.databricks.v1+cell": {
     "cellMetadata": {
      "byteLimit": 2048000,
      "implicitDf": true,
      "rowLimit": 10000
     },
     "collapsed": true,
     "inputWidgets": {},
     "nuid": "8423a3c6-b5e5-4bd8-9440-92252116ad5f",
     "showTitle": false,
     "tableResultSettingsMap": {},
     "title": ""
    }
   },
   "outputs": [],
   "source": [
    "%sql\n",
    "SELECT * FROM pokemon_tcg_collection.bronze.tcg_all_cards;"
   ]
  },
  {
   "cell_type": "code",
   "execution_count": 0,
   "metadata": {
    "application/vnd.databricks.v1+cell": {
     "cellMetadata": {
      "byteLimit": 2048000,
      "implicitDf": true,
      "rowLimit": 10000
     },
     "collapsed": true,
     "inputWidgets": {},
     "nuid": "c15ee2be-28b8-4e7c-b4d9-f3107676ebb3",
     "showTitle": false,
     "tableResultSettingsMap": {},
     "title": ""
    }
   },
   "outputs": [],
   "source": [
    "%sql\n",
    "SELECT * FROM pokemon_tcg_collection.bronze.tcg_all_sets"
   ]
  }
 ],
 "metadata": {
  "application/vnd.databricks.v1+notebook": {
   "computePreferences": {
    "hardware": {
     "accelerator": null,
     "gpuPoolId": null,
     "memory": "STANDARD"
    }
   },
   "dashboards": [],
   "environmentMetadata": {
    "base_environment": "",
    "environment_version": "3"
   },
   "inputWidgetPreferences": null,
   "language": "sql",
   "notebookMetadata": {
    "mostRecentlyExecutedCommandWithImplicitDF": {
     "commandId": -1,
     "dataframes": [
      "_sqldf"
     ]
    },
    "pythonIndentUnit": 4
   },
   "notebookName": "01 bronze_all_cards_API",
   "widgets": {}
  },
  "language_info": {
   "name": "sql"
  }
 },
 "nbformat": 4,
 "nbformat_minor": 0
}
