{
 "cells": [
  {
   "cell_type": "code",
   "execution_count": 0,
   "metadata": {
    "application/vnd.databricks.v1+cell": {
     "cellMetadata": {
      "byteLimit": 2048000,
      "implicitDf": true,
      "rowLimit": 10000
     },
     "collapsed": true,
     "inputWidgets": {},
     "nuid": "6715b255-d76f-4097-9643-04f38a52110f",
     "showTitle": false,
     "tableResultSettingsMap": {},
     "title": ""
    }
   },
   "outputs": [],
   "source": [
    "%sql\n",
    "--CREATE OR REPLACE TABLE workspace.pokemon_tcg_collection.bronze.tcg_collection\n",
    "SELECT\n",
    "\tQuantity\n",
    "\t,Name\n",
    "\t,Simple_Name\n",
    "\t,Set\n",
    "\t,Card_Number\n",
    "\t,Set_Code\n",
    "\t,CASE\n",
    "\t\tWHEN Printing LIKE \"1st%\" THEN \"Unlimited\"\n",
    "\t\tELSE Printing\n",
    "\tEND AS Printing\n",
    "\t,Condition\n",
    "\t,Language\n",
    "\t,Rarity\n",
    "\t,Product_ID\n",
    "\t,SKU\n",
    "\t,Price\n",
    "\t,Price_Each\n",
    "\n",
    "FROM\n",
    "\tworkspace.pokemon_tcg_collection.tcg_collection"
   ]
  },
  {
   "cell_type": "code",
   "execution_count": 0,
   "metadata": {
    "application/vnd.databricks.v1+cell": {
     "cellMetadata": {
      "byteLimit": 2048000,
      "implicitDf": true,
      "rowLimit": 10000
     },
     "inputWidgets": {},
     "nuid": "cd0817a9-18b0-45da-bb13-f51098605103",
     "showTitle": false,
     "tableResultSettingsMap": {},
     "title": ""
    }
   },
   "outputs": [],
   "source": [
    "%sql\n",
    "WITH source AS (\n",
    "\tSELECT\n",
    "\t\tt1.Quantity\n",
    "\t\t,t1.Name\n",
    "\t\t,t1.Simple_Name\n",
    "\t\t,t1.Set\n",
    "\t\t,t1.Card_Number\n",
    "\t\t,CASE\n",
    "\t\t\tWHEN\n",
    "\t\t\t\tTRY_CAST(ELEMENT_AT(SPLIT(t1.Card_Number, '/'), 1) AS INT) IS NOT NULL\n",
    "\t\t\tTHEN\n",
    "\t\t\t\tCAST(TRY_CAST(ELEMENT_AT(SPLIT(t1.Card_Number, '/'), 1) AS INT) AS STRING)\n",
    "\t\t\tELSE ELEMENT_AT(SPLIT(t1.Card_Number, '/'), 1)\n",
    "\t\tEND AS Print_Number\n",
    "\t\t,TRY_ELEMENT_AT(SPLIT(t1.Card_Number, '/'), 2) AS Set_Total\n",
    "\t\t,CASE\n",
    "\t\t\tWHEN t1.Set_Code LIKE 'BS2' THEN 'B2'\n",
    "\t\t\tELSE t1.Set_Code\n",
    "\t\tEND AS Set_Code\n",
    "\t\t,t1.Printing\n",
    "\t\t,t1.Condition\n",
    "\t\t,t1.Language\n",
    "\t\t,t1.Rarity\n",
    "\t\t,t1.Product_ID\n",
    "\t\t,t1.SKU\n",
    "\t\t,t1.Price\n",
    "\t\t,t1.Price_Each\n",
    "\n",
    "\tFROM\n",
    "\t\tworkspace.pokemon_tcg_collection.tcg_collection AS t1\n",
    ")\n",
    "SELECT\n",
    "\t-- t1.Print_Number,\n",
    "\tt1.Set\n",
    "\t,t1.Set_Code\n",
    "\t,t2.ptcgoCode\n",
    "\t,t2.series\n",
    "\t,t2.id\n",
    "  ,t2.releaseDate\n",
    "\n",
    "FROM\n",
    "\tsource AS t1\n",
    "\t\tFULL JOIN workspace.pokemon_tcg_collection.tcg_all_sets AS t2\n",
    "\t\t\tON t2.ptcgoCode = t1.Set_Code\n",
    "\n",
    "GROUP BY\n",
    "\tALL"
   ]
  },
  {
   "cell_type": "code",
   "execution_count": 0,
   "metadata": {
    "application/vnd.databricks.v1+cell": {
     "cellMetadata": {
      "byteLimit": 2048000,
      "implicitDf": true,
      "rowLimit": 10000
     },
     "inputWidgets": {},
     "nuid": "c15ee2be-28b8-4e7c-b4d9-f3107676ebb3",
     "showTitle": false,
     "tableResultSettingsMap": {},
     "title": ""
    }
   },
   "outputs": [],
   "source": [
    "%sql\n",
    "SELECT * FROM workspace.pokemon_tcg_collection.tcg_all_sets"
   ]
  },
  {
   "cell_type": "code",
   "execution_count": 0,
   "metadata": {
    "application/vnd.databricks.v1+cell": {
     "cellMetadata": {
      "byteLimit": 2048000,
      "implicitDf": true,
      "rowLimit": 10000
     },
     "collapsed": true,
     "inputWidgets": {},
     "nuid": "8423a3c6-b5e5-4bd8-9440-92252116ad5f",
     "showTitle": false,
     "tableResultSettingsMap": {},
     "title": ""
    }
   },
   "outputs": [],
   "source": [
    "%sql\n",
    "SELECT * FROM workspace.pokemon_tcg_collection.tcg_all_cards;"
   ]
  }
 ],
 "metadata": {
  "application/vnd.databricks.v1+notebook": {
   "computePreferences": {
    "hardware": {
     "accelerator": null,
     "gpuPoolId": null,
     "memory": "STANDARD"
    }
   },
   "dashboards": [],
   "environmentMetadata": {
    "base_environment": "",
    "environment_version": "3"
   },
   "inputWidgetPreferences": null,
   "language": "python",
   "notebookMetadata": {
    "mostRecentlyExecutedCommandWithImplicitDF": {
     "commandId": 6133751349678226,
     "dataframes": [
      "_sqldf"
     ]
    },
    "pythonIndentUnit": 4
   },
   "notebookName": "02 silver_own_collection",
   "widgets": {}
  },
  "language_info": {
   "name": "python"
  }
 },
 "nbformat": 4,
 "nbformat_minor": 0
}
