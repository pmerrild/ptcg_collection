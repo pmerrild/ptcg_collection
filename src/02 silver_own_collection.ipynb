{
 "cells": [
  {
   "cell_type": "code",
   "execution_count": 0,
   "metadata": {
    "application/vnd.databricks.v1+cell": {
     "cellMetadata": {
      "byteLimit": 2048000,
      "implicitDf": true,
      "rowLimit": 10000
     },
     "inputWidgets": {},
     "nuid": "6715b255-d76f-4097-9643-04f38a52110f",
     "showTitle": false,
     "tableResultSettingsMap": {
      "0": {
       "dataGridStateBlob": null,
       "filterBlob": "{\"version\":1,\"filterGroups\":[{\"enabled\":true,\"filterGroupId\":\"fg_fcebd571\",\"op\":\"OR\",\"filters\":[{\"filterId\":\"f_c61991ce\",\"enabled\":true,\"columnId\":\"Name\",\"dataType\":\"string\",\"filterType\":\"oneof\",\"filterValues\":[\"Braixen\"],\"filterConfig\":{\"caseSensitive\":true}}],\"local\":false,\"updatedAt\":1752689749748}],\"syncTimestamp\":1752689749748}",
       "queryPlanFiltersBlob": "[{\"kind\":\"call\",\"function\":\"or\",\"args\":[{\"kind\":\"call\",\"function\":\"in\",\"args\":[{\"kind\":\"identifier\",\"identifier\":\"Name\"},{\"kind\":\"literal\",\"value\":\"Braixen\",\"type\":\"string\"}]}]}]",
       "tableResultIndex": 0
      }
     },
     "title": ""
    }
   },
   "outputs": [],
   "source": [
    "%sql\n",
    "--CREATE OR REPLACE TABLE workspace.pokemon_tcg_collection.silver_tcg_collection\n",
    "SELECT\n",
    "t1.id AS Set_ID,\n",
    "concat(t1.id,'-',t1.Print_Number) AS Card_ID\n",
    ",t2.supertype AS Card_Type\n",
    ",t1.Simple_Name AS Name\n",
    ",t1.Set AS Set\n",
    ",t1.Print_Number\n",
    ",t1.Rarity\n",
    ",t1.Printing\n",
    ",t1.Condition\n",
    ",t2.artist\n",
    ",t2.flavorText\n",
    ",t2.nationalPokedexNumbers\n",
    ",t2.types\n",
    ",t2.images.large\n",
    "\n",
    "\n",
    "FROM\n",
    "\tworkspace.pokemon_tcg_collection.tcg_collection AS t1\n",
    "\tLEFT JOIN workspace.pokemon_tcg_collection.tcg_all_cards AS t2\n",
    "\tON concat(t1.id,'-',t1.Print_Number) = t2.id"
   ]
  },
  {
   "cell_type": "code",
   "execution_count": 0,
   "metadata": {
    "application/vnd.databricks.v1+cell": {
     "cellMetadata": {
      "byteLimit": 2048000,
      "rowLimit": 10000
     },
     "inputWidgets": {},
     "nuid": "072429c9-7740-4ea9-8805-c988c2622a43",
     "showTitle": false,
     "tableResultSettingsMap": {
      "0": {
       "dataGridStateBlob": "{\"version\":1,\"tableState\":{\"columnPinning\":{\"left\":[\"#row_number#\"],\"right\":[]},\"columnSizing\":{\"id\":141},\"columnVisibility\":{}},\"settings\":{\"columns\":{}},\"syncTimestamp\":1752689156164}",
       "filterBlob": "{\"version\":1,\"filterGroups\":[{\"enabled\":true,\"filterGroupId\":\"fg_6440a21b\",\"op\":\"OR\",\"filters\":[{\"filterId\":\"f_dd206f79\",\"enabled\":true,\"columnId\":\"id\",\"dataType\":\"string\",\"filterType\":\"oneof\"}],\"local\":false,\"updatedAt\":1752006316380}],\"syncTimestamp\":1752006316381}",
       "queryPlanFiltersBlob": "[]",
       "tableResultIndex": 0
      }
     },
     "title": ""
    }
   },
   "outputs": [],
   "source": [
    "%sql\n",
    "select * from `workspace`.`pokemon_tcg_collection`.`tcg_all_cards` where set.id = \"swsh12tg\" limit 100;"
   ]
  },
  {
   "cell_type": "code",
   "execution_count": 0,
   "metadata": {
    "application/vnd.databricks.v1+cell": {
     "cellMetadata": {
      "byteLimit": 2048000,
      "rowLimit": 10000
     },
     "inputWidgets": {},
     "nuid": "748b3192-e469-48b1-aedd-5f5b07b1464e",
     "showTitle": false,
     "tableResultSettingsMap": {},
     "title": ""
    }
   },
   "outputs": [],
   "source": [
    "%sql\n",
    "select * from `workspace`.`pokemon_tcg_collection`.`tcg_all_sets` limit 100;"
   ]
  }
 ],
 "metadata": {
  "application/vnd.databricks.v1+notebook": {
   "computePreferences": {
    "hardware": {
     "accelerator": null,
     "gpuPoolId": null,
     "memory": "STANDARD"
    }
   },
   "dashboards": [],
   "environmentMetadata": {
    "base_environment": "",
    "environment_version": "3"
   },
   "inputWidgetPreferences": null,
   "language": "python",
   "notebookMetadata": {
    "mostRecentlyExecutedCommandWithImplicitDF": {
     "commandId": -1,
     "dataframes": [
      "_sqldf"
     ]
    },
    "pythonIndentUnit": 4
   },
   "notebookName": "02 silver_own_collection",
   "widgets": {}
  },
  "language_info": {
   "name": "python"
  }
 },
 "nbformat": 4,
 "nbformat_minor": 0
}
