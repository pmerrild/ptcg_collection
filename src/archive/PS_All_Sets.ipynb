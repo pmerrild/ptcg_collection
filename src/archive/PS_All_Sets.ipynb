{
 "cells": [
  {
   "cell_type": "code",
   "execution_count": 0,
   "metadata": {
    "application/vnd.databricks.v1+cell": {
     "cellMetadata": {
      "byteLimit": 2048000,
      "rowLimit": 10000
     },
     "inputWidgets": {},
     "nuid": "c46e2586-94cb-425a-8eb7-4acb822fe082",
     "showTitle": false,
     "tableResultSettingsMap": {},
     "title": ""
    }
   },
   "outputs": [],
   "source": [
    "#dbutils.library.restartPython()"
   ]
  },
  {
   "cell_type": "code",
   "execution_count": 0,
   "metadata": {
    "application/vnd.databricks.v1+cell": {
     "cellMetadata": {
      "byteLimit": 2048000,
      "rowLimit": 10000
     },
     "inputWidgets": {},
     "nuid": "be68a70f-bf50-4df0-9a19-a2c6cc359e52",
     "showTitle": false,
     "tableResultSettingsMap": {},
     "title": ""
    }
   },
   "outputs": [],
   "source": [
    "import dlt\n",
    "#dlt.enable_local_execution()"
   ]
  },
  {
   "cell_type": "code",
   "execution_count": 0,
   "metadata": {
    "application/vnd.databricks.v1+cell": {
     "cellMetadata": {
      "byteLimit": 2048000,
      "rowLimit": 10000
     },
     "inputWidgets": {},
     "nuid": "a9b937c9-2430-4d4e-b9a8-56d3cacc432d",
     "showTitle": false,
     "tableResultSettingsMap": {},
     "title": ""
    }
   },
   "outputs": [],
   "source": [
    "import dlt\n",
    "import os\n",
    "import json\n",
    "from pokemontcgsdk import Set, RestClient\n",
    "\n",
    "# Configure your API key\n",
    "api_key = dbutils.secrets.get(scope=\"my_scope\", key=\"POKEMON_API_KEY\")\n",
    "if not api_key:\n",
    "    raise ValueError(\"API key not found. Set the POKEMON_API_KEY environment variable.\")\n",
    "RestClient.configure(api_key)\n",
    "\n",
    "# Helper function to recursively convert object attributes to dicts\n",
    "def obj_to_dict(obj):\n",
    "    if isinstance(obj, list):\n",
    "        return [obj_to_dict(item) for item in obj]\n",
    "    elif hasattr(obj, \"__dict__\"):\n",
    "        return {key: obj_to_dict(value) for key, value in obj.__dict__.items()}\n",
    "    else:\n",
    "        return obj\n",
    "\n",
    "# Fetch all sets\n",
    "sets = Set.all()\n",
    "sets_list = [obj_to_dict(s) for s in sets]\n",
    "\n",
    "\n"
   ]
  },
  {
   "cell_type": "code",
   "execution_count": 0,
   "metadata": {
    "application/vnd.databricks.v1+cell": {
     "cellMetadata": {},
     "inputWidgets": {},
     "nuid": "091c3884-bf4e-4f19-b5c2-fbef6f5873e1",
     "showTitle": false,
     "tableResultSettingsMap": {},
     "title": ""
    }
   },
   "outputs": [],
   "source": [
    "\n",
    "# Initialize a DLT pipeline\n",
    "@dlt.table(name=\"tcg_all_sets\", comment=\"All Pokémon TCG sets\", table_properties={\"quality\": \"bronze\"})\n",
    "def load_pokemon_sets():\n",
    "    return spark.createDataFrame(sets_list)"
   ]
  }
 ],
 "metadata": {
  "application/vnd.databricks.v1+notebook": {
   "computePreferences": {
    "hardware": {
     "accelerator": null,
     "gpuPoolId": null,
     "memory": null
    }
   },
   "dashboards": [],
   "environmentMetadata": {
    "base_environment": "",
    "dependencies": [
     "-r /Workspace/Users/peter.nielsen22@gmail.com/ptcg_collection/requirements-dev.txt"
    ],
    "environment_version": "3"
   },
   "inputWidgetPreferences": null,
   "language": "python",
   "notebookMetadata": {
    "pythonIndentUnit": 4
   },
   "notebookName": "PS_All_Sets",
   "widgets": {}
  },
  "language_info": {
   "name": "python"
  }
 },
 "nbformat": 4,
 "nbformat_minor": 0
}
