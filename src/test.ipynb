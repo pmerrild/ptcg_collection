{
 "cells": [
  {
   "cell_type": "code",
   "execution_count": 0,
   "metadata": {
    "application/vnd.databricks.v1+cell": {
     "cellMetadata": {
      "byteLimit": 2048000,
      "rowLimit": 10000
     },
     "inputWidgets": {},
     "nuid": "defd2a85-77ad-44c5-a9fe-94139334825b",
     "showTitle": false,
     "tableResultSettingsMap": {},
     "title": ""
    }
   },
   "outputs": [],
   "source": [
    "import dlt\n",
    "from pyspark.sql.functions import col, udf\n",
    "from pyspark.sql.types import FloatType\n",
    "\n",
    "\n",
    "# This file defines a sample transformation.\n",
    "#\n",
    "# Prefer to use SQL? See https://docs.databricks.com/dlt/tutorial-pipelines\n",
    "# for a reference with examples.\n",
    "\n",
    "\n",
    "@udf(returnType=FloatType())\n",
    "def distance_km(distance_miles):\n",
    "    \"\"\"Convert distance from miles to kilometers (1 mile = 1.60934 km).\"\"\"\n",
    "    return distance_miles * 1.60934\n",
    "\n",
    "@dlt.table\n",
    "def sample_trips_may_jun_30_2314():\n",
    "    return (\n",
    "        spark.read.table(\"samples.nyctaxi.trips\")\n",
    "        .withColumn(\"trip_distance_km\", distance_km(col(\"trip_distance\")))\n",
    "    )"
   ]
  }
 ],
 "metadata": {
  "application/vnd.databricks.v1+notebook": {
   "computePreferences": null,
   "dashboards": [],
   "environmentMetadata": {
    "base_environment": "",
    "environment_version": "2"
   },
   "inputWidgetPreferences": null,
   "language": "python",
   "notebookMetadata": {
    "pythonIndentUnit": 4
   },
   "notebookName": "test",
   "widgets": {}
  },
  "language_info": {
   "name": "python"
  }
 },
 "nbformat": 4,
 "nbformat_minor": 0
}
